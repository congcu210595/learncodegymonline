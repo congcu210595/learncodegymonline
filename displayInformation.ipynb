{
 "cells": [
  {
   "cell_type": "code",
   "execution_count": 10,
   "id": "e709d1ab",
   "metadata": {},
   "outputs": [
    {
     "name": "stdout",
     "output_type": "stream",
     "text": [
      "Ho va ten : Mac Sy Cong\n"
     ]
    }
   ],
   "source": [
    "print(\"Ho va ten : Mac Sy Cong\")"
   ]
  },
  {
   "cell_type": "code",
   "execution_count": 6,
   "id": "4cd53e84",
   "metadata": {},
   "outputs": [
    {
     "name": "stdout",
     "output_type": "stream",
     "text": [
      "Ngay sinh : 22/4/1995\n"
     ]
    }
   ],
   "source": [
    "print(\"Ngay sinh : 22/4/1995\")"
   ]
  },
  {
   "cell_type": "code",
   "execution_count": 7,
   "id": "88eae10b",
   "metadata": {},
   "outputs": [
    {
     "name": "stdout",
     "output_type": "stream",
     "text": [
      "Dia chi: Dong Da, Ha Noi, Vietnam\n"
     ]
    }
   ],
   "source": [
    "print(\"Dia chi: Dong Da, Ha Noi, Vietnam\")"
   ]
  },
  {
   "cell_type": "code",
   "execution_count": 9,
   "id": "40a4ae12",
   "metadata": {},
   "outputs": [
    {
     "name": "stdout",
     "output_type": "stream",
     "text": [
      "Muc dich: Lam viec\n"
     ]
    }
   ],
   "source": [
    "print(\"Muc dich: Lam viec\")"
   ]
  }
 ],
 "metadata": {
  "kernelspec": {
   "display_name": "Python 3 (ipykernel)",
   "language": "python",
   "name": "python3"
  },
  "language_info": {
   "codemirror_mode": {
    "name": "ipython",
    "version": 3
   },
   "file_extension": ".py",
   "mimetype": "text/x-python",
   "name": "python",
   "nbconvert_exporter": "python",
   "pygments_lexer": "ipython3",
   "version": "3.10.4"
  }
 },
 "nbformat": 4,
 "nbformat_minor": 5
}
